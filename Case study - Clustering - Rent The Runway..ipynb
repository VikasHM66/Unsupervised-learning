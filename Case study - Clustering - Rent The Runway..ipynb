{
 "cells": [
  {
   "cell_type": "markdown",
   "metadata": {},
   "source": [
    "## Problem Statement:\n",
    "\n",
    "The objective of this study is to segment the similar user and similar items in to clusters. Understanding the common charecteristic of each group will help the organization to promote their bussiness."
   ]
  },
  {
   "cell_type": "markdown",
   "metadata": {},
   "source": [
    "The datasets used in this work contain measurements of clothing fit from RentTheRunway.\n",
    "RentTheRunWay is a unique platform that allows women to rent clothes for various occasions; we collected data from several categories. These datasets contain self-reported fit feedback from customers as well as other side information like reviews, ratings, product categories, catalog sizes, customers’ measurements (etc.). In this datasets, fit feedback belongs to one of three classes: ‘Small,’ ‘Fit,’ and ‘Large.’\n",
    "\n",
    "## FILE DESCRIPTION\n",
    "These datasets contain measurements of clothing fit from RentTheRunway.\n",
    "\t                  \n",
    "1. Number of users:\t    105,508\n",
    "2. Number of items:\t    5,850\n",
    "3. Number of transactions:\t192,544\n",
    "\n",
    "Metadata:\n",
    "    1. ratings and reviews\n",
    "    2. fit feedback (small/fit/large etc.)\n",
    "    3. user/item measurements \n",
    "    4. category information\n",
    "    \n",
    "Data Citation:\n",
    "Decomposing fit semantics for product size recommendation in metric spaces\n",
    "Rishabh Misra, Mengting Wan, Julian McAuley\n",
    "RecSys, 2018\n",
    "\n",
    "Weblink for data:\n",
    "https://cseweb.ucsd.edu/~jmcauley/datasets.html#clothing_fit\n",
    "\n",
    "We have altered this dataset by deriving some new columns which has been computed by applying text analytics statergies on the review column of data.\n",
    "\n",
    "Appropriate features need to be selected for user segmentation(clustering) and Item Segmentation (clustering) process.  \n"
   ]
  },
  {
   "cell_type": "markdown",
   "metadata": {},
   "source": [
    "## Import required libraries."
   ]
  },
  {
   "cell_type": "code",
   "execution_count": 1,
   "metadata": {},
   "outputs": [],
   "source": [
    "import pandas as pd\n",
    "import numpy as np\n",
    "import seaborn as sns\n",
    "import matplotlib.pyplot as plt\n",
    "import warnings\n",
    "warnings.filterwarnings('ignore')\n",
    "pd.options.display.max_columns=None\n",
    "pd.options.display.max_columns=None"
   ]
  },
  {
   "cell_type": "markdown",
   "metadata": {},
   "source": [
    "## Load the dataset."
   ]
  },
  {
   "cell_type": "code",
   "execution_count": 2,
   "metadata": {},
   "outputs": [
    {
     "data": {
      "text/html": [
       "<div>\n",
       "<style scoped>\n",
       "    .dataframe tbody tr th:only-of-type {\n",
       "        vertical-align: middle;\n",
       "    }\n",
       "\n",
       "    .dataframe tbody tr th {\n",
       "        vertical-align: top;\n",
       "    }\n",
       "\n",
       "    .dataframe thead th {\n",
       "        text-align: right;\n",
       "    }\n",
       "</style>\n",
       "<table border=\"1\" class=\"dataframe\">\n",
       "  <thead>\n",
       "    <tr style=\"text-align: right;\">\n",
       "      <th></th>\n",
       "      <th>fit</th>\n",
       "      <th>user_id</th>\n",
       "      <th>item_id</th>\n",
       "      <th>weight</th>\n",
       "      <th>rating</th>\n",
       "      <th>rented for</th>\n",
       "      <th>body type</th>\n",
       "      <th>category</th>\n",
       "      <th>height</th>\n",
       "      <th>size</th>\n",
       "      <th>age</th>\n",
       "      <th>review_sum_Pol</th>\n",
       "      <th>review_sum_Subj</th>\n",
       "      <th>review_text__Pol</th>\n",
       "      <th>review_text_Subj</th>\n",
       "      <th>text_compound</th>\n",
       "      <th>text_neg</th>\n",
       "      <th>text_neu</th>\n",
       "      <th>text_pos</th>\n",
       "      <th>sum_compound</th>\n",
       "      <th>sum_neg</th>\n",
       "      <th>sum_neu</th>\n",
       "      <th>sum_pos</th>\n",
       "      <th>size1</th>\n",
       "      <th>size2</th>\n",
       "    </tr>\n",
       "  </thead>\n",
       "  <tbody>\n",
       "    <tr>\n",
       "      <th>0</th>\n",
       "      <td>fit</td>\n",
       "      <td>420272</td>\n",
       "      <td>2260466</td>\n",
       "      <td>137lbs</td>\n",
       "      <td>10.0</td>\n",
       "      <td>vacation</td>\n",
       "      <td>hourglass</td>\n",
       "      <td>romper</td>\n",
       "      <td>5' 8\"</td>\n",
       "      <td>14</td>\n",
       "      <td>28.0</td>\n",
       "      <td>0.625000</td>\n",
       "      <td>0.500000</td>\n",
       "      <td>0.181548</td>\n",
       "      <td>0.623810</td>\n",
       "      <td>0.9453</td>\n",
       "      <td>0.021</td>\n",
       "      <td>0.676</td>\n",
       "      <td>0.303</td>\n",
       "      <td>0.9453</td>\n",
       "      <td>0.0</td>\n",
       "      <td>0.379</td>\n",
       "      <td>0.621</td>\n",
       "      <td>0.708333</td>\n",
       "      <td>d</td>\n",
       "    </tr>\n",
       "    <tr>\n",
       "      <th>1</th>\n",
       "      <td>fit</td>\n",
       "      <td>273551</td>\n",
       "      <td>153475</td>\n",
       "      <td>132lbs</td>\n",
       "      <td>10.0</td>\n",
       "      <td>other</td>\n",
       "      <td>straight &amp; narrow</td>\n",
       "      <td>gown</td>\n",
       "      <td>5' 6\"</td>\n",
       "      <td>12</td>\n",
       "      <td>36.0</td>\n",
       "      <td>0.000000</td>\n",
       "      <td>0.000000</td>\n",
       "      <td>0.360667</td>\n",
       "      <td>0.686667</td>\n",
       "      <td>0.8991</td>\n",
       "      <td>0.046</td>\n",
       "      <td>0.696</td>\n",
       "      <td>0.258</td>\n",
       "      <td>0.8991</td>\n",
       "      <td>0.0</td>\n",
       "      <td>0.387</td>\n",
       "      <td>0.613</td>\n",
       "      <td>0.708333</td>\n",
       "      <td>b</td>\n",
       "    </tr>\n",
       "    <tr>\n",
       "      <th>2</th>\n",
       "      <td>fit</td>\n",
       "      <td>360448</td>\n",
       "      <td>1063761</td>\n",
       "      <td>NaN</td>\n",
       "      <td>10.0</td>\n",
       "      <td>party</td>\n",
       "      <td>NaN</td>\n",
       "      <td>sheath</td>\n",
       "      <td>5' 4\"</td>\n",
       "      <td>4</td>\n",
       "      <td>116.0</td>\n",
       "      <td>0.525000</td>\n",
       "      <td>0.541667</td>\n",
       "      <td>0.489762</td>\n",
       "      <td>0.570476</td>\n",
       "      <td>0.9333</td>\n",
       "      <td>0.000</td>\n",
       "      <td>0.713</td>\n",
       "      <td>0.287</td>\n",
       "      <td>0.9333</td>\n",
       "      <td>0.0</td>\n",
       "      <td>0.658</td>\n",
       "      <td>0.342</td>\n",
       "      <td>NaN</td>\n",
       "      <td>NaN</td>\n",
       "    </tr>\n",
       "    <tr>\n",
       "      <th>3</th>\n",
       "      <td>fit</td>\n",
       "      <td>909926</td>\n",
       "      <td>126335</td>\n",
       "      <td>135lbs</td>\n",
       "      <td>8.0</td>\n",
       "      <td>formal affair</td>\n",
       "      <td>pear</td>\n",
       "      <td>dress</td>\n",
       "      <td>5' 5\"</td>\n",
       "      <td>8</td>\n",
       "      <td>34.0</td>\n",
       "      <td>1.000000</td>\n",
       "      <td>1.000000</td>\n",
       "      <td>0.213056</td>\n",
       "      <td>0.461556</td>\n",
       "      <td>0.9559</td>\n",
       "      <td>0.034</td>\n",
       "      <td>0.746</td>\n",
       "      <td>0.219</td>\n",
       "      <td>0.9559</td>\n",
       "      <td>0.0</td>\n",
       "      <td>0.654</td>\n",
       "      <td>0.346</td>\n",
       "      <td>0.708333</td>\n",
       "      <td>c</td>\n",
       "    </tr>\n",
       "    <tr>\n",
       "      <th>4</th>\n",
       "      <td>fit</td>\n",
       "      <td>151944</td>\n",
       "      <td>616682</td>\n",
       "      <td>145lbs</td>\n",
       "      <td>10.0</td>\n",
       "      <td>wedding</td>\n",
       "      <td>athletic</td>\n",
       "      <td>gown</td>\n",
       "      <td>5' 9\"</td>\n",
       "      <td>12</td>\n",
       "      <td>27.0</td>\n",
       "      <td>0.976562</td>\n",
       "      <td>0.600000</td>\n",
       "      <td>-0.054028</td>\n",
       "      <td>0.320417</td>\n",
       "      <td>0.6239</td>\n",
       "      <td>0.014</td>\n",
       "      <td>0.936</td>\n",
       "      <td>0.050</td>\n",
       "      <td>0.6239</td>\n",
       "      <td>0.0</td>\n",
       "      <td>0.542</td>\n",
       "      <td>0.458</td>\n",
       "      <td>0.708333</td>\n",
       "      <td>b</td>\n",
       "    </tr>\n",
       "  </tbody>\n",
       "</table>\n",
       "</div>"
      ],
      "text/plain": [
       "   fit  user_id  item_id  weight  rating     rented for          body type  \\\n",
       "0  fit   420272  2260466  137lbs    10.0       vacation          hourglass   \n",
       "1  fit   273551   153475  132lbs    10.0          other  straight & narrow   \n",
       "2  fit   360448  1063761     NaN    10.0          party                NaN   \n",
       "3  fit   909926   126335  135lbs     8.0  formal affair               pear   \n",
       "4  fit   151944   616682  145lbs    10.0        wedding           athletic   \n",
       "\n",
       "  category height  size    age  review_sum_Pol  review_sum_Subj  \\\n",
       "0   romper  5' 8\"    14   28.0        0.625000         0.500000   \n",
       "1     gown  5' 6\"    12   36.0        0.000000         0.000000   \n",
       "2   sheath  5' 4\"     4  116.0        0.525000         0.541667   \n",
       "3    dress  5' 5\"     8   34.0        1.000000         1.000000   \n",
       "4     gown  5' 9\"    12   27.0        0.976562         0.600000   \n",
       "\n",
       "   review_text__Pol  review_text_Subj  text_compound  text_neg  text_neu  \\\n",
       "0          0.181548          0.623810         0.9453     0.021     0.676   \n",
       "1          0.360667          0.686667         0.8991     0.046     0.696   \n",
       "2          0.489762          0.570476         0.9333     0.000     0.713   \n",
       "3          0.213056          0.461556         0.9559     0.034     0.746   \n",
       "4         -0.054028          0.320417         0.6239     0.014     0.936   \n",
       "\n",
       "   text_pos  sum_compound  sum_neg  sum_neu  sum_pos     size1 size2  \n",
       "0     0.303        0.9453      0.0    0.379    0.621  0.708333     d  \n",
       "1     0.258        0.8991      0.0    0.387    0.613  0.708333     b  \n",
       "2     0.287        0.9333      0.0    0.658    0.342       NaN   NaN  \n",
       "3     0.219        0.9559      0.0    0.654    0.346  0.708333     c  \n",
       "4     0.050        0.6239      0.0    0.542    0.458  0.708333     b  "
      ]
     },
     "execution_count": 2,
     "metadata": {},
     "output_type": "execute_result"
    }
   ],
   "source": [
    "df = pd.read_csv('final_cluster_data_cloth.csv')\n",
    "df.head()"
   ]
  },
  {
   "cell_type": "markdown",
   "metadata": {},
   "source": [
    "## Lets check the shape."
   ]
  },
  {
   "cell_type": "code",
   "execution_count": 3,
   "metadata": {},
   "outputs": [
    {
     "data": {
      "text/plain": [
       "(192544, 25)"
      ]
     },
     "execution_count": 3,
     "metadata": {},
     "output_type": "execute_result"
    }
   ],
   "source": [
    "df.shape"
   ]
  },
  {
   "cell_type": "markdown",
   "metadata": {},
   "source": [
    "## Lets check the value counts in the Original Class (target variable)."
   ]
  },
  {
   "cell_type": "code",
   "execution_count": 4,
   "metadata": {},
   "outputs": [
    {
     "data": {
      "text/plain": [
       "fit      142058\n",
       "small     25779\n",
       "large     24707\n",
       "Name: fit, dtype: int64"
      ]
     },
     "execution_count": 4,
     "metadata": {},
     "output_type": "execute_result"
    }
   ],
   "source": [
    "df['fit'].value_counts()"
   ]
  },
  {
   "cell_type": "markdown",
   "metadata": {},
   "source": [
    "## Lets check the datatypes."
   ]
  },
  {
   "cell_type": "code",
   "execution_count": 5,
   "metadata": {},
   "outputs": [
    {
     "name": "stdout",
     "output_type": "stream",
     "text": [
      "<class 'pandas.core.frame.DataFrame'>\n",
      "RangeIndex: 192544 entries, 0 to 192543\n",
      "Data columns (total 25 columns):\n",
      " #   Column            Non-Null Count   Dtype  \n",
      "---  ------            --------------   -----  \n",
      " 0   fit               192544 non-null  object \n",
      " 1   user_id           192544 non-null  int64  \n",
      " 2   item_id           192544 non-null  int64  \n",
      " 3   weight            162562 non-null  object \n",
      " 4   rating            192462 non-null  float64\n",
      " 5   rented for        192534 non-null  object \n",
      " 6   body type         177907 non-null  object \n",
      " 7   category          192544 non-null  object \n",
      " 8   height            191867 non-null  object \n",
      " 9   size              192544 non-null  int64  \n",
      " 10  age               191584 non-null  float64\n",
      " 11  review_sum_Pol    192544 non-null  float64\n",
      " 12  review_sum_Subj   192544 non-null  float64\n",
      " 13  review_text__Pol  192544 non-null  float64\n",
      " 14  review_text_Subj  192544 non-null  float64\n",
      " 15  text_compound     192544 non-null  float64\n",
      " 16  text_neg          192544 non-null  float64\n",
      " 17  text_neu          192544 non-null  float64\n",
      " 18  text_pos          192544 non-null  float64\n",
      " 19  sum_compound      192544 non-null  float64\n",
      " 20  sum_neg           192544 non-null  float64\n",
      " 21  sum_neu           192544 non-null  float64\n",
      " 22  sum_pos           192544 non-null  float64\n",
      " 23  size1             174133 non-null  float64\n",
      " 24  size2             174133 non-null  object \n",
      "dtypes: float64(15), int64(3), object(7)\n",
      "memory usage: 36.7+ MB\n"
     ]
    }
   ],
   "source": [
    "df.info()"
   ]
  },
  {
   "cell_type": "markdown",
   "metadata": {},
   "source": [
    "## Lets clean the data"
   ]
  },
  {
   "cell_type": "code",
   "execution_count": 6,
   "metadata": {},
   "outputs": [
    {
     "data": {
      "text/plain": [
       "array(['fit', 'small', 'large'], dtype=object)"
      ]
     },
     "execution_count": 6,
     "metadata": {},
     "output_type": "execute_result"
    }
   ],
   "source": [
    "df['fit'].unique()    ## target variable, we will exclude it while building the model."
   ]
  },
  {
   "cell_type": "code",
   "execution_count": 7,
   "metadata": {},
   "outputs": [
    {
     "data": {
      "text/plain": [
       "105571"
      ]
     },
     "execution_count": 7,
     "metadata": {},
     "output_type": "execute_result"
    }
   ],
   "source": [
    "df['user_id'].nunique()   ## we will drop the user_id for now and add it later."
   ]
  },
  {
   "cell_type": "code",
   "execution_count": 8,
   "metadata": {},
   "outputs": [
    {
     "data": {
      "text/plain": [
       "5850"
      ]
     },
     "execution_count": 8,
     "metadata": {},
     "output_type": "execute_result"
    }
   ],
   "source": [
    "df['item_id'].nunique()   ## we will drop the item_id for now and add it later."
   ]
  },
  {
   "cell_type": "code",
   "execution_count": null,
   "metadata": {},
   "outputs": [],
   "source": [
    "\n"
   ]
  },
  {
   "cell_type": "code",
   "execution_count": 9,
   "metadata": {},
   "outputs": [
    {
     "data": {
      "text/plain": [
       "array(['137lbs', '132lbs', nan, '135lbs', '145lbs'], dtype=object)"
      ]
     },
     "execution_count": 9,
     "metadata": {},
     "output_type": "execute_result"
    }
   ],
   "source": [
    "df['weight'].unique()[:5]   ## we need to get only the numeric values and convert the datatype to int or float."
   ]
  },
  {
   "cell_type": "code",
   "execution_count": 10,
   "metadata": {},
   "outputs": [],
   "source": [
    "df['weight'] = df['weight'].str.replace('lbs','').astype(float) ## we removed 'lbs' from the data."
   ]
  },
  {
   "cell_type": "code",
   "execution_count": 11,
   "metadata": {},
   "outputs": [
    {
     "data": {
      "text/plain": [
       "0    137.0\n",
       "1    132.0\n",
       "2      NaN\n",
       "3    135.0\n",
       "4    145.0\n",
       "Name: weight, dtype: float64"
      ]
     },
     "execution_count": 11,
     "metadata": {},
     "output_type": "execute_result"
    }
   ],
   "source": [
    "df['weight'].head()"
   ]
  },
  {
   "cell_type": "code",
   "execution_count": null,
   "metadata": {},
   "outputs": [],
   "source": [
    "\n"
   ]
  },
  {
   "cell_type": "code",
   "execution_count": 12,
   "metadata": {},
   "outputs": [
    {
     "data": {
      "text/plain": [
       "array([10.,  8.,  4.,  6.,  2., nan])"
      ]
     },
     "execution_count": 12,
     "metadata": {},
     "output_type": "execute_result"
    }
   ],
   "source": [
    "df['rating'].unique()"
   ]
  },
  {
   "cell_type": "code",
   "execution_count": null,
   "metadata": {},
   "outputs": [],
   "source": []
  },
  {
   "cell_type": "code",
   "execution_count": 13,
   "metadata": {},
   "outputs": [
    {
     "data": {
      "text/plain": [
       "wedding            57784\n",
       "formal affair      40408\n",
       "party              35626\n",
       "everyday           16822\n",
       "other              15388\n",
       "work               15042\n",
       "date                7388\n",
       "vacation            4075\n",
       "party: cocktail        1\n",
       "Name: rented for, dtype: int64"
      ]
     },
     "execution_count": 13,
     "metadata": {},
     "output_type": "execute_result"
    }
   ],
   "source": [
    "df['rented for'].value_counts()"
   ]
  },
  {
   "cell_type": "code",
   "execution_count": 14,
   "metadata": {},
   "outputs": [],
   "source": [
    "df['rented for'] = df['rented for'].str.replace('party: cocktail','party')"
   ]
  },
  {
   "cell_type": "code",
   "execution_count": 15,
   "metadata": {},
   "outputs": [
    {
     "data": {
      "text/plain": [
       "wedding          57784\n",
       "formal affair    40408\n",
       "party            35627\n",
       "everyday         16822\n",
       "other            15388\n",
       "work             15042\n",
       "date              7388\n",
       "vacation          4075\n",
       "Name: rented for, dtype: int64"
      ]
     },
     "execution_count": 15,
     "metadata": {},
     "output_type": "execute_result"
    }
   ],
   "source": [
    "df['rented for'].value_counts()"
   ]
  },
  {
   "cell_type": "code",
   "execution_count": null,
   "metadata": {},
   "outputs": [],
   "source": [
    "\n"
   ]
  },
  {
   "cell_type": "code",
   "execution_count": 16,
   "metadata": {},
   "outputs": [
    {
     "data": {
      "text/plain": [
       "hourglass            55349\n",
       "athletic             43667\n",
       "pear                 22135\n",
       "petite               22131\n",
       "full bust            15006\n",
       "straight & narrow    14742\n",
       "apple                 4877\n",
       "Name: body type, dtype: int64"
      ]
     },
     "execution_count": 16,
     "metadata": {},
     "output_type": "execute_result"
    }
   ],
   "source": [
    "df['body type'].value_counts()"
   ]
  },
  {
   "cell_type": "code",
   "execution_count": null,
   "metadata": {},
   "outputs": [],
   "source": [
    "\n"
   ]
  },
  {
   "cell_type": "code",
   "execution_count": 17,
   "metadata": {},
   "outputs": [
    {
     "data": {
      "text/plain": [
       "dress           92884\n",
       "gown            44381\n",
       "sheath          19316\n",
       "shift            5365\n",
       "jumpsuit         5184\n",
       "                ...  \n",
       "sweatershirt        4\n",
       "overcoat            2\n",
       "sweatpants          2\n",
       "buttondown          1\n",
       "crewneck            1\n",
       "Name: category, Length: 68, dtype: int64"
      ]
     },
     "execution_count": 17,
     "metadata": {},
     "output_type": "execute_result"
    }
   ],
   "source": [
    "df['category'].value_counts()  ## group up the categories (for now lets drop it)"
   ]
  },
  {
   "cell_type": "code",
   "execution_count": null,
   "metadata": {},
   "outputs": [],
   "source": [
    "\n"
   ]
  },
  {
   "cell_type": "code",
   "execution_count": 18,
   "metadata": {},
   "outputs": [
    {
     "data": {
      "text/plain": [
       "0    5' 8\"\n",
       "1    5' 6\"\n",
       "2    5' 4\"\n",
       "3    5' 5\"\n",
       "4    5' 9\"\n",
       "Name: height, dtype: object"
      ]
     },
     "execution_count": 18,
     "metadata": {},
     "output_type": "execute_result"
    }
   ],
   "source": [
    "df['height'].head()"
   ]
  },
  {
   "cell_type": "code",
   "execution_count": 19,
   "metadata": {},
   "outputs": [],
   "source": [
    "df['height'] = df['height'].str.replace(\"'\",'')"
   ]
  },
  {
   "cell_type": "code",
   "execution_count": 20,
   "metadata": {},
   "outputs": [],
   "source": [
    "df['height'] = df['height'].str.replace('\"','')"
   ]
  },
  {
   "cell_type": "code",
   "execution_count": 21,
   "metadata": {},
   "outputs": [
    {
     "data": {
      "text/plain": [
       "0    5 8\n",
       "1    5 6\n",
       "2    5 4\n",
       "3    5 5\n",
       "4    5 9\n",
       "Name: height, dtype: object"
      ]
     },
     "execution_count": 21,
     "metadata": {},
     "output_type": "execute_result"
    }
   ],
   "source": [
    "df['height'].head()"
   ]
  },
  {
   "cell_type": "code",
   "execution_count": 22,
   "metadata": {},
   "outputs": [],
   "source": [
    "df['height'] = (df['height'].str[:1].astype(float)*12 + df['height'].str[1:].astype(float))"
   ]
  },
  {
   "cell_type": "code",
   "execution_count": 23,
   "metadata": {},
   "outputs": [
    {
     "data": {
      "text/plain": [
       "0    68.0\n",
       "1    66.0\n",
       "2    64.0\n",
       "3    65.0\n",
       "4    69.0\n",
       "Name: height, dtype: float64"
      ]
     },
     "execution_count": 23,
     "metadata": {},
     "output_type": "execute_result"
    }
   ],
   "source": [
    "df['height'].head()"
   ]
  },
  {
   "cell_type": "code",
   "execution_count": 24,
   "metadata": {},
   "outputs": [
    {
     "data": {
      "text/html": [
       "<div>\n",
       "<style scoped>\n",
       "    .dataframe tbody tr th:only-of-type {\n",
       "        vertical-align: middle;\n",
       "    }\n",
       "\n",
       "    .dataframe tbody tr th {\n",
       "        vertical-align: top;\n",
       "    }\n",
       "\n",
       "    .dataframe thead th {\n",
       "        text-align: right;\n",
       "    }\n",
       "</style>\n",
       "<table border=\"1\" class=\"dataframe\">\n",
       "  <thead>\n",
       "    <tr style=\"text-align: right;\">\n",
       "      <th></th>\n",
       "      <th>fit</th>\n",
       "      <th>user_id</th>\n",
       "      <th>item_id</th>\n",
       "      <th>weight</th>\n",
       "      <th>rating</th>\n",
       "      <th>rented for</th>\n",
       "      <th>body type</th>\n",
       "      <th>category</th>\n",
       "      <th>height</th>\n",
       "      <th>size</th>\n",
       "      <th>age</th>\n",
       "      <th>review_sum_Pol</th>\n",
       "      <th>review_sum_Subj</th>\n",
       "      <th>review_text__Pol</th>\n",
       "      <th>review_text_Subj</th>\n",
       "      <th>text_compound</th>\n",
       "      <th>text_neg</th>\n",
       "      <th>text_neu</th>\n",
       "      <th>text_pos</th>\n",
       "      <th>sum_compound</th>\n",
       "      <th>sum_neg</th>\n",
       "      <th>sum_neu</th>\n",
       "      <th>sum_pos</th>\n",
       "      <th>size1</th>\n",
       "      <th>size2</th>\n",
       "    </tr>\n",
       "  </thead>\n",
       "  <tbody>\n",
       "    <tr>\n",
       "      <th>0</th>\n",
       "      <td>fit</td>\n",
       "      <td>420272</td>\n",
       "      <td>2260466</td>\n",
       "      <td>137.0</td>\n",
       "      <td>10.0</td>\n",
       "      <td>vacation</td>\n",
       "      <td>hourglass</td>\n",
       "      <td>romper</td>\n",
       "      <td>68.0</td>\n",
       "      <td>14</td>\n",
       "      <td>28.0</td>\n",
       "      <td>0.625</td>\n",
       "      <td>0.5</td>\n",
       "      <td>0.181548</td>\n",
       "      <td>0.623810</td>\n",
       "      <td>0.9453</td>\n",
       "      <td>0.021</td>\n",
       "      <td>0.676</td>\n",
       "      <td>0.303</td>\n",
       "      <td>0.9453</td>\n",
       "      <td>0.0</td>\n",
       "      <td>0.379</td>\n",
       "      <td>0.621</td>\n",
       "      <td>0.708333</td>\n",
       "      <td>d</td>\n",
       "    </tr>\n",
       "    <tr>\n",
       "      <th>1</th>\n",
       "      <td>fit</td>\n",
       "      <td>273551</td>\n",
       "      <td>153475</td>\n",
       "      <td>132.0</td>\n",
       "      <td>10.0</td>\n",
       "      <td>other</td>\n",
       "      <td>straight &amp; narrow</td>\n",
       "      <td>gown</td>\n",
       "      <td>66.0</td>\n",
       "      <td>12</td>\n",
       "      <td>36.0</td>\n",
       "      <td>0.000</td>\n",
       "      <td>0.0</td>\n",
       "      <td>0.360667</td>\n",
       "      <td>0.686667</td>\n",
       "      <td>0.8991</td>\n",
       "      <td>0.046</td>\n",
       "      <td>0.696</td>\n",
       "      <td>0.258</td>\n",
       "      <td>0.8991</td>\n",
       "      <td>0.0</td>\n",
       "      <td>0.387</td>\n",
       "      <td>0.613</td>\n",
       "      <td>0.708333</td>\n",
       "      <td>b</td>\n",
       "    </tr>\n",
       "  </tbody>\n",
       "</table>\n",
       "</div>"
      ],
      "text/plain": [
       "   fit  user_id  item_id  weight  rating rented for          body type  \\\n",
       "0  fit   420272  2260466   137.0    10.0   vacation          hourglass   \n",
       "1  fit   273551   153475   132.0    10.0      other  straight & narrow   \n",
       "\n",
       "  category  height  size   age  review_sum_Pol  review_sum_Subj  \\\n",
       "0   romper    68.0    14  28.0           0.625              0.5   \n",
       "1     gown    66.0    12  36.0           0.000              0.0   \n",
       "\n",
       "   review_text__Pol  review_text_Subj  text_compound  text_neg  text_neu  \\\n",
       "0          0.181548          0.623810         0.9453     0.021     0.676   \n",
       "1          0.360667          0.686667         0.8991     0.046     0.696   \n",
       "\n",
       "   text_pos  sum_compound  sum_neg  sum_neu  sum_pos     size1 size2  \n",
       "0     0.303        0.9453      0.0    0.379    0.621  0.708333     d  \n",
       "1     0.258        0.8991      0.0    0.387    0.613  0.708333     b  "
      ]
     },
     "execution_count": 24,
     "metadata": {},
     "output_type": "execute_result"
    }
   ],
   "source": [
    "df.head(2)"
   ]
  },
  {
   "cell_type": "code",
   "execution_count": 25,
   "metadata": {},
   "outputs": [
    {
     "data": {
      "text/plain": [
       "c        49634\n",
       "b        49110\n",
       "d        45008\n",
       "a        15286\n",
       "dd        6703\n",
       "d+        3956\n",
       "ddd/e     2602\n",
       "aa         710\n",
       "f          458\n",
       "g          440\n",
       "h          156\n",
       "i           40\n",
       "j           30\n",
       "Name: size2, dtype: int64"
      ]
     },
     "execution_count": 25,
     "metadata": {},
     "output_type": "execute_result"
    }
   ],
   "source": [
    "df['size2'].value_counts()"
   ]
  },
  {
   "cell_type": "markdown",
   "metadata": {},
   "source": [
    "##### Now we pretty much cleaned the data, lets cross check the datatypes and drop the unwanted dataypes for the analysis."
   ]
  },
  {
   "cell_type": "code",
   "execution_count": 26,
   "metadata": {},
   "outputs": [
    {
     "name": "stdout",
     "output_type": "stream",
     "text": [
      "<class 'pandas.core.frame.DataFrame'>\n",
      "RangeIndex: 192544 entries, 0 to 192543\n",
      "Data columns (total 25 columns):\n",
      " #   Column            Non-Null Count   Dtype  \n",
      "---  ------            --------------   -----  \n",
      " 0   fit               192544 non-null  object \n",
      " 1   user_id           192544 non-null  int64  \n",
      " 2   item_id           192544 non-null  int64  \n",
      " 3   weight            162562 non-null  float64\n",
      " 4   rating            192462 non-null  float64\n",
      " 5   rented for        192534 non-null  object \n",
      " 6   body type         177907 non-null  object \n",
      " 7   category          192544 non-null  object \n",
      " 8   height            191867 non-null  float64\n",
      " 9   size              192544 non-null  int64  \n",
      " 10  age               191584 non-null  float64\n",
      " 11  review_sum_Pol    192544 non-null  float64\n",
      " 12  review_sum_Subj   192544 non-null  float64\n",
      " 13  review_text__Pol  192544 non-null  float64\n",
      " 14  review_text_Subj  192544 non-null  float64\n",
      " 15  text_compound     192544 non-null  float64\n",
      " 16  text_neg          192544 non-null  float64\n",
      " 17  text_neu          192544 non-null  float64\n",
      " 18  text_pos          192544 non-null  float64\n",
      " 19  sum_compound      192544 non-null  float64\n",
      " 20  sum_neg           192544 non-null  float64\n",
      " 21  sum_neu           192544 non-null  float64\n",
      " 22  sum_pos           192544 non-null  float64\n",
      " 23  size1             174133 non-null  float64\n",
      " 24  size2             174133 non-null  object \n",
      "dtypes: float64(17), int64(3), object(5)\n",
      "memory usage: 36.7+ MB\n"
     ]
    }
   ],
   "source": [
    "df.info()"
   ]
  },
  {
   "cell_type": "markdown",
   "metadata": {},
   "source": [
    "##### All the features datatypes are succesfully assigned correctly."
   ]
  },
  {
   "cell_type": "markdown",
   "metadata": {},
   "source": [
    "##### Lets drop user_id, item_id and add it later, (`Note:` for the time constrait i am dropping category and size2 features, but it may also add value for the analysis.)"
   ]
  },
  {
   "cell_type": "code",
   "execution_count": 27,
   "metadata": {},
   "outputs": [],
   "source": [
    "###### The target variable in the dataset is 'fit', lets exclude that first\n",
    "X = df.drop('fit',axis=1)"
   ]
  },
  {
   "cell_type": "code",
   "execution_count": 28,
   "metadata": {},
   "outputs": [
    {
     "data": {
      "text/html": [
       "<div>\n",
       "<style scoped>\n",
       "    .dataframe tbody tr th:only-of-type {\n",
       "        vertical-align: middle;\n",
       "    }\n",
       "\n",
       "    .dataframe tbody tr th {\n",
       "        vertical-align: top;\n",
       "    }\n",
       "\n",
       "    .dataframe thead th {\n",
       "        text-align: right;\n",
       "    }\n",
       "</style>\n",
       "<table border=\"1\" class=\"dataframe\">\n",
       "  <thead>\n",
       "    <tr style=\"text-align: right;\">\n",
       "      <th></th>\n",
       "      <th>fit</th>\n",
       "      <th>weight</th>\n",
       "      <th>rating</th>\n",
       "      <th>rented for</th>\n",
       "      <th>body type</th>\n",
       "      <th>height</th>\n",
       "      <th>size</th>\n",
       "      <th>age</th>\n",
       "      <th>review_sum_Pol</th>\n",
       "      <th>review_sum_Subj</th>\n",
       "      <th>review_text__Pol</th>\n",
       "      <th>review_text_Subj</th>\n",
       "      <th>text_compound</th>\n",
       "      <th>text_neg</th>\n",
       "      <th>text_neu</th>\n",
       "      <th>text_pos</th>\n",
       "      <th>sum_compound</th>\n",
       "      <th>sum_neg</th>\n",
       "      <th>sum_neu</th>\n",
       "      <th>sum_pos</th>\n",
       "      <th>size1</th>\n",
       "    </tr>\n",
       "  </thead>\n",
       "  <tbody>\n",
       "    <tr>\n",
       "      <th>0</th>\n",
       "      <td>fit</td>\n",
       "      <td>137.0</td>\n",
       "      <td>10.0</td>\n",
       "      <td>vacation</td>\n",
       "      <td>hourglass</td>\n",
       "      <td>68.0</td>\n",
       "      <td>14</td>\n",
       "      <td>28.0</td>\n",
       "      <td>0.625</td>\n",
       "      <td>0.5</td>\n",
       "      <td>0.181548</td>\n",
       "      <td>0.623810</td>\n",
       "      <td>0.9453</td>\n",
       "      <td>0.021</td>\n",
       "      <td>0.676</td>\n",
       "      <td>0.303</td>\n",
       "      <td>0.9453</td>\n",
       "      <td>0.0</td>\n",
       "      <td>0.379</td>\n",
       "      <td>0.621</td>\n",
       "      <td>0.708333</td>\n",
       "    </tr>\n",
       "    <tr>\n",
       "      <th>1</th>\n",
       "      <td>fit</td>\n",
       "      <td>132.0</td>\n",
       "      <td>10.0</td>\n",
       "      <td>other</td>\n",
       "      <td>straight &amp; narrow</td>\n",
       "      <td>66.0</td>\n",
       "      <td>12</td>\n",
       "      <td>36.0</td>\n",
       "      <td>0.000</td>\n",
       "      <td>0.0</td>\n",
       "      <td>0.360667</td>\n",
       "      <td>0.686667</td>\n",
       "      <td>0.8991</td>\n",
       "      <td>0.046</td>\n",
       "      <td>0.696</td>\n",
       "      <td>0.258</td>\n",
       "      <td>0.8991</td>\n",
       "      <td>0.0</td>\n",
       "      <td>0.387</td>\n",
       "      <td>0.613</td>\n",
       "      <td>0.708333</td>\n",
       "    </tr>\n",
       "  </tbody>\n",
       "</table>\n",
       "</div>"
      ],
      "text/plain": [
       "   fit  weight  rating rented for          body type  height  size   age  \\\n",
       "0  fit   137.0    10.0   vacation          hourglass    68.0    14  28.0   \n",
       "1  fit   132.0    10.0      other  straight & narrow    66.0    12  36.0   \n",
       "\n",
       "   review_sum_Pol  review_sum_Subj  review_text__Pol  review_text_Subj  \\\n",
       "0           0.625              0.5          0.181548          0.623810   \n",
       "1           0.000              0.0          0.360667          0.686667   \n",
       "\n",
       "   text_compound  text_neg  text_neu  text_pos  sum_compound  sum_neg  \\\n",
       "0         0.9453     0.021     0.676     0.303        0.9453      0.0   \n",
       "1         0.8991     0.046     0.696     0.258        0.8991      0.0   \n",
       "\n",
       "   sum_neu  sum_pos     size1  \n",
       "0    0.379    0.621  0.708333  \n",
       "1    0.387    0.613  0.708333  "
      ]
     },
     "execution_count": 28,
     "metadata": {},
     "output_type": "execute_result"
    }
   ],
   "source": [
    "X = df.drop(['user_id','item_id','category','size2'],axis=1)\n",
    "X.head(2)"
   ]
  },
  {
   "cell_type": "code",
   "execution_count": 29,
   "metadata": {},
   "outputs": [
    {
     "data": {
      "text/plain": [
       "(192544, 21)"
      ]
     },
     "execution_count": 29,
     "metadata": {},
     "output_type": "execute_result"
    }
   ],
   "source": [
    "X.shape"
   ]
  },
  {
   "cell_type": "markdown",
   "metadata": {},
   "source": [
    "## Lets check full null values and impute them."
   ]
  },
  {
   "cell_type": "code",
   "execution_count": 30,
   "metadata": {},
   "outputs": [
    {
     "data": {
      "text/plain": [
       "fit                     0\n",
       "weight              29982\n",
       "rating                 82\n",
       "rented for             10\n",
       "body type           14637\n",
       "height                677\n",
       "size                    0\n",
       "age                   960\n",
       "review_sum_Pol          0\n",
       "review_sum_Subj         0\n",
       "review_text__Pol        0\n",
       "review_text_Subj        0\n",
       "text_compound           0\n",
       "text_neg                0\n",
       "text_neu                0\n",
       "text_pos                0\n",
       "sum_compound            0\n",
       "sum_neg                 0\n",
       "sum_neu                 0\n",
       "sum_pos                 0\n",
       "size1               18411\n",
       "dtype: int64"
      ]
     },
     "execution_count": 30,
     "metadata": {},
     "output_type": "execute_result"
    }
   ],
   "source": [
    "X.isnull().sum()"
   ]
  },
  {
   "cell_type": "code",
   "execution_count": 31,
   "metadata": {
    "scrolled": true
   },
   "outputs": [
    {
     "data": {
      "image/png": "[encoded data removed]",
      "text/plain": [
       "<Figure size 432x288 with 1 Axes>"
      ]
     },
     "metadata": {
      "needs_background": "light"
     },
     "output_type": "display_data"
    },
    {
     "data": {
      "image/png": "[encoded data removed]",
      "text/plain": [
       "<Figure size 432x288 with 1 Axes>"
      ]
     },
     "metadata": {
      "needs_background": "light"
     },
     "output_type": "display_data"
    },
    {
     "data": {
      "image/png": "[encoded data removed]",
      "text/plain": [
       "<Figure size 432x288 with 1 Axes>"
      ]
     },
     "metadata": {
      "needs_background": "light"
     },
     "output_type": "display_data"
    },
    {
     "data": {
      "image/png": "[encoded data removed]",
      "text/plain": [
       "<Figure size 432x288 with 1 Axes>"
      ]
     },
     "metadata": {
      "needs_background": "light"
     },
     "output_type": "display_data"
    },
    {
     "data": {
      "image/png": "[encoded data removed]",
      "text/plain": [
       "<Figure size 432x288 with 1 Axes>"
      ]
     },
     "metadata": {
      "needs_background": "light"
     },
     "output_type": "display_data"
    }
   ],
   "source": [
    "X_null_num = X[['weight','rating','height','age','size1']]\n",
    "for i in X_null_num:\n",
    "    sns.distplot(X_null_num[i])\n",
    "    plt.show()"
   ]
  },
  {
   "cell_type": "markdown",
   "metadata": {},
   "source": [
    "##### As we can see from above distribution plot all the numerical columns having null values are skewed lets treat them with median and categorical columns with mode."
   ]
  },
  {
   "cell_type": "code",
   "execution_count": 32,
   "metadata": {},
   "outputs": [],
   "source": [
    "mode_rented_for = X['rented for'].mode()\n",
    "mode_body_type = X['body type'].mode()"
   ]
  },
  {
   "cell_type": "code",
   "execution_count": 33,
   "metadata": {},
   "outputs": [],
   "source": [
    "## Numerical columns:\n",
    "\n",
    "X['weight'] = X['weight'].fillna(X['weight'].median())\n",
    "X['rating'] = X['rating'].fillna(X['rating'].median())\n",
    "X['height'] = X['height'].fillna(X['height'].median())\n",
    "X['age'] = X['age'].fillna(X['age'].median())\n",
    "X['size1'] = X['size1'].fillna(X['size1'].median())\n",
    "\n",
    "## Categorical columns:\n",
    "\n",
    "X['rented for'] = X['rented for'].fillna(mode_rented_for[0])\n",
    "X['body type'] = X['body type'].fillna(mode_body_type[0])"
   ]
  },
  {
   "cell_type": "code",
   "execution_count": 34,
   "metadata": {},
   "outputs": [
    {
     "data": {
      "text/plain": [
       "fit                 0\n",
       "weight              0\n",
       "rating              0\n",
       "rented for          0\n",
       "body type           0\n",
       "height              0\n",
       "size                0\n",
       "age                 0\n",
       "review_sum_Pol      0\n",
       "review_sum_Subj     0\n",
       "review_text__Pol    0\n",
       "review_text_Subj    0\n",
       "text_compound       0\n",
       "text_neg            0\n",
       "text_neu            0\n",
       "text_pos            0\n",
       "sum_compound        0\n",
       "sum_neg             0\n",
       "sum_neu             0\n",
       "sum_pos             0\n",
       "size1               0\n",
       "dtype: int64"
      ]
     },
     "execution_count": 34,
     "metadata": {},
     "output_type": "execute_result"
    }
   ],
   "source": [
    "## Cross check\n",
    "X.isnull().sum()"
   ]
  },
  {
   "cell_type": "markdown",
   "metadata": {},
   "source": [
    "##### The null values is been taken care."
   ]
  },
  {
   "cell_type": "markdown",
   "metadata": {},
   "source": [
    "## Lets check for the outliers."
   ]
  },
  {
   "cell_type": "code",
   "execution_count": 35,
   "metadata": {},
   "outputs": [
    {
     "data": {
      "image/png": "[encoded data removed]",
      "text/plain": [
       "<Figure size 432x288 with 1 Axes>"
      ]
     },
     "metadata": {
      "needs_background": "light"
     },
     "output_type": "display_data"
    },
    {
     "data": {
      "image/png": "[encoded data removed]",
      "text/plain": [
       "<Figure size 432x288 with 1 Axes>"
      ]
     },
     "metadata": {
      "needs_background": "light"
     },
     "output_type": "display_data"
    },
    {
     "data": {
      "image/png": "[encoded data removed]",
      "text/plain": [
       "<Figure size 432x288 with 1 Axes>"
      ]
     },
     "metadata": {
      "needs_background": "light"
     },
     "output_type": "display_data"
    },
    {
     "data": {
      "image/png": "[encoded data removed]",
      "text/plain": [
       "<Figure size 432x288 with 1 Axes>"
      ]
     },
     "metadata": {
      "needs_background": "light"
     },
     "output_type": "display_data"
    },
    {
     "data": {
      "image/png": "[encoded data removed]",
      "text/plain": [
       "<Figure size 432x288 with 1 Axes>"
      ]
     },
     "metadata": {
      "needs_background": "light"
     },
     "output_type": "display_data"
    },
    {
     "data": {
      "image/png": "[encoded data removed]",
      "text/plain": [
       "<Figure size 432x288 with 1 Axes>"
      ]
     },
     "metadata": {
      "needs_background": "light"
     },
     "output_type": "display_data"
    },
    {
     "data": {
      "image/png": "[encoded data removed]",
      "text/plain": [
       "<Figure size 432x288 with 1 Axes>"
      ]
     },
     "metadata": {
      "needs_background": "light"
     },
     "output_type": "display_data"
    },
    {
     "data": {
      "image/png": "[encoded data removed]",
      "text/plain": [
       "<Figure size 432x288 with 1 Axes>"
      ]
     },
     "metadata": {
      "needs_background": "light"
     },
     "output_type": "display_data"
    },
    {
     "data": {
      "image/png": "[encoded data removed]",
      "text/plain": [
       "<Figure size 432x288 with 1 Axes>"
      ]
     },
     "metadata": {
      "needs_background": "light"
     },
     "output_type": "display_data"
    },
    {
     "data": {
      "image/png": "[encoded data removed]",
      "text/plain": [
       "<Figure size 432x288 with 1 Axes>"
      ]
     },
     "metadata": {
      "needs_background": "light"
     },
     "output_type": "display_data"
    },
    {
     "data": {
      "image/png": "[encoded data removed]",
      "text/plain": [
       "<Figure size 432x288 with 1 Axes>"
      ]
     },
     "metadata": {
      "needs_background": "light"
     },
     "output_type": "display_data"
    },
    {
     "data": {
      "image/png": "[encoded data removed]",
      "text/plain": [
       "<Figure size 432x288 with 1 Axes>"
      ]
     },
     "metadata": {
      "needs_background": "light"
     },
     "output_type": "display_data"
    },
    {
     "data": {
      "image/png": "[encoded data removed]",
      "text/plain": [
       "<Figure size 432x288 with 1 Axes>"
      ]
     },
     "metadata": {
      "needs_background": "light"
     },
     "output_type": "display_data"
    },
    {
     "data": {
      "image/png": "[encoded data removed]",
      "text/plain": [
       "<Figure size 432x288 with 1 Axes>"
      ]
     },
     "metadata": {
      "needs_background": "light"
     },
     "output_type": "display_data"
    },
    {
     "data": {
      "image/png": "[encoded data removed]",
      "text/plain": [
       "<Figure size 432x288 with 1 Axes>"
      ]
     },
     "metadata": {
      "needs_background": "light"
     },
     "output_type": "display_data"
    },
    {
     "data": {
      "image/png": "[encoded data removed]",
      "text/plain": [
       "<Figure size 432x288 with 1 Axes>"
      ]
     },
     "metadata": {
      "needs_background": "light"
     },
     "output_type": "display_data"
    },
    {
     "data": {
      "image/png": "[encoded data removed]",
      "text/plain": [
       "<Figure size 432x288 with 1 Axes>"
      ]
     },
     "metadata": {
      "needs_background": "light"
     },
     "output_type": "display_data"
    },
    {
     "data": {
      "image/png": "[encoded data removed]",
      "text/plain": [
       "<Figure size 432x288 with 1 Axes>"
      ]
     },
     "metadata": {
      "needs_background": "light"
     },
     "output_type": "display_data"
    }
   ],
   "source": [
    "X_num = X.select_dtypes(include=np.number)\n",
    "for i in X_num:\n",
    "    sns.boxplot(X_num[i])\n",
    "    plt.show()"
   ]
  },
  {
   "cell_type": "code",
   "execution_count": 36,
   "metadata": {},
   "outputs": [
    {
     "data": {
      "image/png": "[encoded data removed]",
      "text/plain": [
       "<Figure size 1080x432 with 20 Axes>"
      ]
     },
     "metadata": {
      "needs_background": "light"
     },
     "output_type": "display_data"
    }
   ],
   "source": [
    "## lets see their distribution.\n",
    "plt.rcParams['figure.figsize']=[15,6]\n",
    "X_num.hist()\n",
    "plt.tight_layout()\n",
    "plt.show()"
   ]
  },
  {
   "cell_type": "markdown",
   "metadata": {},
   "source": [
    "## Capping Technique."
   ]
  },
  {
   "cell_type": "code",
   "execution_count": 37,
   "metadata": {},
   "outputs": [],
   "source": [
    "Q1 = X_num.quantile(0.25)\n",
    "Q3 = X_num.quantile(0.75)\n",
    "IQR = Q3-Q1\n",
    "UL = Q3 + 1.5*IQR\n",
    "LL = Q1 - 1.5*IQR\n",
    "\n",
    "X_num = pd.DataFrame(np.where(X_num>UL,UL,X_num),columns=X_num.columns)\n",
    "X_num = pd.DataFrame(np.where(X_num<LL,LL,X_num),columns=X_num.columns)"
   ]
  },
  {
   "cell_type": "code",
   "execution_count": 38,
   "metadata": {},
   "outputs": [
    {
     "data": {
      "image/png": "[encoded data removed]",
      "text/plain": [
       "<Figure size 1080x432 with 1 Axes>"
      ]
     },
     "metadata": {
      "needs_background": "light"
     },
     "output_type": "display_data"
    },
    {
     "data": {
      "image/png": "[encoded data removed]",
      "text/plain": [
       "<Figure size 1080x432 with 1 Axes>"
      ]
     },
     "metadata": {
      "needs_background": "light"
     },
     "output_type": "display_data"
    },
    {
     "data": {
      "image/png": "[encoded data removed]",
      "text/plain": [
       "<Figure size 1080x432 with 1 Axes>"
      ]
     },
     "metadata": {
      "needs_background": "light"
     },
     "output_type": "display_data"
    },
    {
     "data": {
      "image/png": "[encoded data removed]",
      "text/plain": [
       "<Figure size 1080x432 with 1 Axes>"
      ]
     },
     "metadata": {
      "needs_background": "light"
     },
     "output_type": "display_data"
    },
    {
     "data": {
      "image/png": "[encoded data removed]",
      "text/plain": [
       "<Figure size 1080x432 with 1 Axes>"
      ]
     },
     "metadata": {
      "needs_background": "light"
     },
     "output_type": "display_data"
    },
    {
     "data": {
      "image/png": "[encoded data removed]",
      "text/plain": [
       "<Figure size 1080x432 with 1 Axes>"
      ]
     },
     "metadata": {
      "needs_background": "light"
     },
     "output_type": "display_data"
    },
    {
     "data": {
      "image/png": "[encoded data removed]",
      "text/plain": [
       "<Figure size 1080x432 with 1 Axes>"
      ]
     },
     "metadata": {
      "needs_background": "light"
     },
     "output_type": "display_data"
    },
    {
     "data": {
      "image/png": "[encoded data removed]",
      "text/plain": [
       "<Figure size 1080x432 with 1 Axes>"
      ]
     },
     "metadata": {
      "needs_background": "light"
     },
     "output_type": "display_data"
    },
    {
     "data": {
      "image/png": "[encoded data removed]",
      "text/plain": [
       "<Figure size 1080x432 with 1 Axes>"
      ]
     },
     "metadata": {
      "needs_background": "light"
     },
     "output_type": "display_data"
    },
    {
     "data": {
      "image/png": "[encoded data removed]",
      "text/plain": [
       "<Figure size 1080x432 with 1 Axes>"
      ]
     },
     "metadata": {
      "needs_background": "light"
     },
     "output_type": "display_data"
    },
    {
     "data": {
      "image/png": "[encoded data removed]",
      "text/plain": [
       "<Figure size 1080x432 with 1 Axes>"
      ]
     },
     "metadata": {
      "needs_background": "light"
     },
     "output_type": "display_data"
    },
    {
     "data": {
      "image/png": "[encoded data removed]",
      "text/plain": [
       "<Figure size 1080x432 with 1 Axes>"
      ]
     },
     "metadata": {
      "needs_background": "light"
     },
     "output_type": "display_data"
    },
    {
     "data": {
      "image/png": "[encoded data removed]",
      "text/plain": [
       "<Figure size 1080x432 with 1 Axes>"
      ]
     },
     "metadata": {
      "needs_background": "light"
     },
     "output_type": "display_data"
    },
    {
     "data": {
      "image/png": "[encoded data removed]",
      "text/plain": [
       "<Figure size 1080x432 with 1 Axes>"
      ]
     },
     "metadata": {
      "needs_background": "light"
     },
     "output_type": "display_data"
    },
    {
     "data": {
      "image/png": "[encoded data removed]",
      "text/plain": [
       "<Figure size 1080x432 with 1 Axes>"
      ]
     },
     "metadata": {
      "needs_background": "light"
     },
     "output_type": "display_data"
    },
    {
     "data": {
      "image/png": "[encoded data removed]",
      "text/plain": [
       "<Figure size 1080x432 with 1 Axes>"
      ]
     },
     "metadata": {
      "needs_background": "light"
     },
     "output_type": "display_data"
    },
    {
     "data": {
      "image/png": "[encoded data removed]",
      "text/plain": [
       "<Figure size 1080x432 with 1 Axes>"
      ]
     },
     "metadata": {
      "needs_background": "light"
     },
     "output_type": "display_data"
    },
    {
     "data": {
      "image/png": "[encoded data removed]",
      "text/plain": [
       "<Figure size 1080x432 with 1 Axes>"
      ]
     },
     "metadata": {
      "needs_background": "light"
     },
     "output_type": "display_data"
    }
   ],
   "source": [
    "for i in X_num:\n",
    "    sns.boxplot(X_num[i])\n",
    "    plt.show()"
   ]
  },
  {
   "cell_type": "markdown",
   "metadata": {},
   "source": [
    "## Lets encode the categorical variables."
   ]
  },
  {
   "cell_type": "code",
   "execution_count": 39,
   "metadata": {},
   "outputs": [
    {
     "data": {
      "text/html": [
       "<div>\n",
       "<style scoped>\n",
       "    .dataframe tbody tr th:only-of-type {\n",
       "        vertical-align: middle;\n",
       "    }\n",
       "\n",
       "    .dataframe tbody tr th {\n",
       "        vertical-align: top;\n",
       "    }\n",
       "\n",
       "    .dataframe thead th {\n",
       "        text-align: right;\n",
       "    }\n",
       "</style>\n",
       "<table border=\"1\" class=\"dataframe\">\n",
       "  <thead>\n",
       "    <tr style=\"text-align: right;\">\n",
       "      <th></th>\n",
       "      <th>weight</th>\n",
       "      <th>rating</th>\n",
       "      <th>height</th>\n",
       "      <th>size</th>\n",
       "      <th>age</th>\n",
       "      <th>review_sum_Pol</th>\n",
       "      <th>review_sum_Subj</th>\n",
       "      <th>review_text__Pol</th>\n",
       "      <th>review_text_Subj</th>\n",
       "      <th>text_compound</th>\n",
       "      <th>text_neg</th>\n",
       "      <th>text_neu</th>\n",
       "      <th>text_pos</th>\n",
       "      <th>sum_compound</th>\n",
       "      <th>sum_neg</th>\n",
       "      <th>sum_neu</th>\n",
       "      <th>sum_pos</th>\n",
       "      <th>size1</th>\n",
       "      <th>fit_large</th>\n",
       "      <th>fit_small</th>\n",
       "      <th>rented for_everyday</th>\n",
       "      <th>rented for_formal affair</th>\n",
       "      <th>rented for_other</th>\n",
       "      <th>rented for_party</th>\n",
       "      <th>rented for_vacation</th>\n",
       "      <th>rented for_wedding</th>\n",
       "      <th>rented for_work</th>\n",
       "      <th>body type_athletic</th>\n",
       "      <th>body type_full bust</th>\n",
       "      <th>body type_hourglass</th>\n",
       "      <th>body type_pear</th>\n",
       "      <th>body type_petite</th>\n",
       "      <th>body type_straight &amp; narrow</th>\n",
       "    </tr>\n",
       "  </thead>\n",
       "  <tbody>\n",
       "    <tr>\n",
       "      <th>0</th>\n",
       "      <td>137.0</td>\n",
       "      <td>10.0</td>\n",
       "      <td>68.0</td>\n",
       "      <td>14</td>\n",
       "      <td>28.0</td>\n",
       "      <td>0.625000</td>\n",
       "      <td>0.500000</td>\n",
       "      <td>0.181548</td>\n",
       "      <td>0.623810</td>\n",
       "      <td>0.9453</td>\n",
       "      <td>0.021</td>\n",
       "      <td>0.676</td>\n",
       "      <td>0.303</td>\n",
       "      <td>0.9453</td>\n",
       "      <td>0.0</td>\n",
       "      <td>0.379</td>\n",
       "      <td>0.621</td>\n",
       "      <td>0.708333</td>\n",
       "      <td>0</td>\n",
       "      <td>0</td>\n",
       "      <td>0</td>\n",
       "      <td>0</td>\n",
       "      <td>0</td>\n",
       "      <td>0</td>\n",
       "      <td>1</td>\n",
       "      <td>0</td>\n",
       "      <td>0</td>\n",
       "      <td>0</td>\n",
       "      <td>0</td>\n",
       "      <td>1</td>\n",
       "      <td>0</td>\n",
       "      <td>0</td>\n",
       "      <td>0</td>\n",
       "    </tr>\n",
       "    <tr>\n",
       "      <th>1</th>\n",
       "      <td>132.0</td>\n",
       "      <td>10.0</td>\n",
       "      <td>66.0</td>\n",
       "      <td>12</td>\n",
       "      <td>36.0</td>\n",
       "      <td>0.000000</td>\n",
       "      <td>0.000000</td>\n",
       "      <td>0.360667</td>\n",
       "      <td>0.686667</td>\n",
       "      <td>0.8991</td>\n",
       "      <td>0.046</td>\n",
       "      <td>0.696</td>\n",
       "      <td>0.258</td>\n",
       "      <td>0.8991</td>\n",
       "      <td>0.0</td>\n",
       "      <td>0.387</td>\n",
       "      <td>0.613</td>\n",
       "      <td>0.708333</td>\n",
       "      <td>0</td>\n",
       "      <td>0</td>\n",
       "      <td>0</td>\n",
       "      <td>0</td>\n",
       "      <td>1</td>\n",
       "      <td>0</td>\n",
       "      <td>0</td>\n",
       "      <td>0</td>\n",
       "      <td>0</td>\n",
       "      <td>0</td>\n",
       "      <td>0</td>\n",
       "      <td>0</td>\n",
       "      <td>0</td>\n",
       "      <td>0</td>\n",
       "      <td>1</td>\n",
       "    </tr>\n",
       "    <tr>\n",
       "      <th>2</th>\n",
       "      <td>135.0</td>\n",
       "      <td>10.0</td>\n",
       "      <td>64.0</td>\n",
       "      <td>4</td>\n",
       "      <td>116.0</td>\n",
       "      <td>0.525000</td>\n",
       "      <td>0.541667</td>\n",
       "      <td>0.489762</td>\n",
       "      <td>0.570476</td>\n",
       "      <td>0.9333</td>\n",
       "      <td>0.000</td>\n",
       "      <td>0.713</td>\n",
       "      <td>0.287</td>\n",
       "      <td>0.9333</td>\n",
       "      <td>0.0</td>\n",
       "      <td>0.658</td>\n",
       "      <td>0.342</td>\n",
       "      <td>0.708333</td>\n",
       "      <td>0</td>\n",
       "      <td>0</td>\n",
       "      <td>0</td>\n",
       "      <td>0</td>\n",
       "      <td>0</td>\n",
       "      <td>1</td>\n",
       "      <td>0</td>\n",
       "      <td>0</td>\n",
       "      <td>0</td>\n",
       "      <td>0</td>\n",
       "      <td>0</td>\n",
       "      <td>1</td>\n",
       "      <td>0</td>\n",
       "      <td>0</td>\n",
       "      <td>0</td>\n",
       "    </tr>\n",
       "    <tr>\n",
       "      <th>3</th>\n",
       "      <td>135.0</td>\n",
       "      <td>8.0</td>\n",
       "      <td>65.0</td>\n",
       "      <td>8</td>\n",
       "      <td>34.0</td>\n",
       "      <td>1.000000</td>\n",
       "      <td>1.000000</td>\n",
       "      <td>0.213056</td>\n",
       "      <td>0.461556</td>\n",
       "      <td>0.9559</td>\n",
       "      <td>0.034</td>\n",
       "      <td>0.746</td>\n",
       "      <td>0.219</td>\n",
       "      <td>0.9559</td>\n",
       "      <td>0.0</td>\n",
       "      <td>0.654</td>\n",
       "      <td>0.346</td>\n",
       "      <td>0.708333</td>\n",
       "      <td>0</td>\n",
       "      <td>0</td>\n",
       "      <td>0</td>\n",
       "      <td>1</td>\n",
       "      <td>0</td>\n",
       "      <td>0</td>\n",
       "      <td>0</td>\n",
       "      <td>0</td>\n",
       "      <td>0</td>\n",
       "      <td>0</td>\n",
       "      <td>0</td>\n",
       "      <td>0</td>\n",
       "      <td>1</td>\n",
       "      <td>0</td>\n",
       "      <td>0</td>\n",
       "    </tr>\n",
       "    <tr>\n",
       "      <th>4</th>\n",
       "      <td>145.0</td>\n",
       "      <td>10.0</td>\n",
       "      <td>69.0</td>\n",
       "      <td>12</td>\n",
       "      <td>27.0</td>\n",
       "      <td>0.976562</td>\n",
       "      <td>0.600000</td>\n",
       "      <td>-0.054028</td>\n",
       "      <td>0.320417</td>\n",
       "      <td>0.6239</td>\n",
       "      <td>0.014</td>\n",
       "      <td>0.936</td>\n",
       "      <td>0.050</td>\n",
       "      <td>0.6239</td>\n",
       "      <td>0.0</td>\n",
       "      <td>0.542</td>\n",
       "      <td>0.458</td>\n",
       "      <td>0.708333</td>\n",
       "      <td>0</td>\n",
       "      <td>0</td>\n",
       "      <td>0</td>\n",
       "      <td>0</td>\n",
       "      <td>0</td>\n",
       "      <td>0</td>\n",
       "      <td>0</td>\n",
       "      <td>1</td>\n",
       "      <td>0</td>\n",
       "      <td>1</td>\n",
       "      <td>0</td>\n",
       "      <td>0</td>\n",
       "      <td>0</td>\n",
       "      <td>0</td>\n",
       "      <td>0</td>\n",
       "    </tr>\n",
       "  </tbody>\n",
       "</table>\n",
       "</div>"
      ],
      "text/plain": [
       "   weight  rating  height  size    age  review_sum_Pol  review_sum_Subj  \\\n",
       "0   137.0    10.0    68.0    14   28.0        0.625000         0.500000   \n",
       "1   132.0    10.0    66.0    12   36.0        0.000000         0.000000   \n",
       "2   135.0    10.0    64.0     4  116.0        0.525000         0.541667   \n",
       "3   135.0     8.0    65.0     8   34.0        1.000000         1.000000   \n",
       "4   145.0    10.0    69.0    12   27.0        0.976562         0.600000   \n",
       "\n",
       "   review_text__Pol  review_text_Subj  text_compound  text_neg  text_neu  \\\n",
       "0          0.181548          0.623810         0.9453     0.021     0.676   \n",
       "1          0.360667          0.686667         0.8991     0.046     0.696   \n",
       "2          0.489762          0.570476         0.9333     0.000     0.713   \n",
       "3          0.213056          0.461556         0.9559     0.034     0.746   \n",
       "4         -0.054028          0.320417         0.6239     0.014     0.936   \n",
       "\n",
       "   text_pos  sum_compound  sum_neg  sum_neu  sum_pos     size1  fit_large  \\\n",
       "0     0.303        0.9453      0.0    0.379    0.621  0.708333          0   \n",
       "1     0.258        0.8991      0.0    0.387    0.613  0.708333          0   \n",
       "2     0.287        0.9333      0.0    0.658    0.342  0.708333          0   \n",
       "3     0.219        0.9559      0.0    0.654    0.346  0.708333          0   \n",
       "4     0.050        0.6239      0.0    0.542    0.458  0.708333          0   \n",
       "\n",
       "   fit_small  rented for_everyday  rented for_formal affair  rented for_other  \\\n",
       "0          0                    0                         0                 0   \n",
       "1          0                    0                         0                 1   \n",
       "2          0                    0                         0                 0   \n",
       "3          0                    0                         1                 0   \n",
       "4          0                    0                         0                 0   \n",
       "\n",
       "   rented for_party  rented for_vacation  rented for_wedding  rented for_work  \\\n",
       "0                 0                    1                   0                0   \n",
       "1                 0                    0                   0                0   \n",
       "2                 1                    0                   0                0   \n",
       "3                 0                    0                   0                0   \n",
       "4                 0                    0                   1                0   \n",
       "\n",
       "   body type_athletic  body type_full bust  body type_hourglass  \\\n",
       "0                   0                    0                    1   \n",
       "1                   0                    0                    0   \n",
       "2                   0                    0                    1   \n",
       "3                   0                    0                    0   \n",
       "4                   1                    0                    0   \n",
       "\n",
       "   body type_pear  body type_petite  body type_straight & narrow  \n",
       "0               0                 0                            0  \n",
       "1               0                 0                            1  \n",
       "2               0                 0                            0  \n",
       "3               1                 0                            0  \n",
       "4               0                 0                            0  "
      ]
     },
     "execution_count": 39,
     "metadata": {},
     "output_type": "execute_result"
    }
   ],
   "source": [
    "X = pd.get_dummies(data=X,drop_first=True)\n",
    "X.head()"
   ]
  },
  {
   "cell_type": "markdown",
   "metadata": {},
   "source": [
    "## Lets scale the data."
   ]
  },
  {
   "cell_type": "code",
   "execution_count": 40,
   "metadata": {},
   "outputs": [],
   "source": [
    "from sklearn.preprocessing import StandardScaler\n",
    "ss = StandardScaler()"
   ]
  },
  {
   "cell_type": "code",
   "execution_count": 41,
   "metadata": {},
   "outputs": [
    {
     "data": {
      "text/html": [
       "<div>\n",
       "<style scoped>\n",
       "    .dataframe tbody tr th:only-of-type {\n",
       "        vertical-align: middle;\n",
       "    }\n",
       "\n",
       "    .dataframe tbody tr th {\n",
       "        vertical-align: top;\n",
       "    }\n",
       "\n",
       "    .dataframe thead th {\n",
       "        text-align: right;\n",
       "    }\n",
       "</style>\n",
       "<table border=\"1\" class=\"dataframe\">\n",
       "  <thead>\n",
       "    <tr style=\"text-align: right;\">\n",
       "      <th></th>\n",
       "      <th>weight</th>\n",
       "      <th>rating</th>\n",
       "      <th>height</th>\n",
       "      <th>size</th>\n",
       "      <th>age</th>\n",
       "      <th>review_sum_Pol</th>\n",
       "      <th>review_sum_Subj</th>\n",
       "      <th>review_text__Pol</th>\n",
       "      <th>review_text_Subj</th>\n",
       "      <th>text_compound</th>\n",
       "      <th>text_neg</th>\n",
       "      <th>text_neu</th>\n",
       "      <th>text_pos</th>\n",
       "      <th>sum_compound</th>\n",
       "      <th>sum_neg</th>\n",
       "      <th>sum_neu</th>\n",
       "      <th>sum_pos</th>\n",
       "      <th>size1</th>\n",
       "      <th>fit_large</th>\n",
       "      <th>fit_small</th>\n",
       "      <th>rented for_everyday</th>\n",
       "      <th>rented for_formal affair</th>\n",
       "      <th>rented for_other</th>\n",
       "      <th>rented for_party</th>\n",
       "      <th>rented for_vacation</th>\n",
       "      <th>rented for_wedding</th>\n",
       "      <th>rented for_work</th>\n",
       "      <th>body type_athletic</th>\n",
       "      <th>body type_full bust</th>\n",
       "      <th>body type_hourglass</th>\n",
       "      <th>body type_pear</th>\n",
       "      <th>body type_petite</th>\n",
       "      <th>body type_straight &amp; narrow</th>\n",
       "    </tr>\n",
       "  </thead>\n",
       "  <tbody>\n",
       "    <tr>\n",
       "      <th>0</th>\n",
       "      <td>-0.000957</td>\n",
       "      <td>0.634498</td>\n",
       "      <td>1.011893</td>\n",
       "      <td>0.206575</td>\n",
       "      <td>-0.729154</td>\n",
       "      <td>0.487450</td>\n",
       "      <td>-0.348670</td>\n",
       "      <td>-0.549519</td>\n",
       "      <td>0.386620</td>\n",
       "      <td>0.524320</td>\n",
       "      <td>-0.154470</td>\n",
       "      <td>-0.272637</td>\n",
       "      <td>0.307787</td>\n",
       "      <td>0.524320</td>\n",
       "      <td>-0.209796</td>\n",
       "      <td>-0.498721</td>\n",
       "      <td>0.544570</td>\n",
       "      <td>-0.109604</td>\n",
       "      <td>0</td>\n",
       "      <td>0</td>\n",
       "      <td>0</td>\n",
       "      <td>0</td>\n",
       "      <td>0</td>\n",
       "      <td>0</td>\n",
       "      <td>1</td>\n",
       "      <td>0</td>\n",
       "      <td>0</td>\n",
       "      <td>0</td>\n",
       "      <td>0</td>\n",
       "      <td>1</td>\n",
       "      <td>0</td>\n",
       "      <td>0</td>\n",
       "      <td>0</td>\n",
       "    </tr>\n",
       "    <tr>\n",
       "      <th>1</th>\n",
       "      <td>-0.249202</td>\n",
       "      <td>0.634498</td>\n",
       "      <td>0.259688</td>\n",
       "      <td>-0.028862</td>\n",
       "      <td>0.265991</td>\n",
       "      <td>-1.296666</td>\n",
       "      <td>-1.837773</td>\n",
       "      <td>0.396547</td>\n",
       "      <td>0.835679</td>\n",
       "      <td>0.374040</td>\n",
       "      <td>0.424357</td>\n",
       "      <td>-0.132454</td>\n",
       "      <td>0.003911</td>\n",
       "      <td>0.374040</td>\n",
       "      <td>-0.209796</td>\n",
       "      <td>-0.469898</td>\n",
       "      <td>0.516316</td>\n",
       "      <td>-0.109604</td>\n",
       "      <td>0</td>\n",
       "      <td>0</td>\n",
       "      <td>0</td>\n",
       "      <td>0</td>\n",
       "      <td>1</td>\n",
       "      <td>0</td>\n",
       "      <td>0</td>\n",
       "      <td>0</td>\n",
       "      <td>0</td>\n",
       "      <td>0</td>\n",
       "      <td>0</td>\n",
       "      <td>0</td>\n",
       "      <td>0</td>\n",
       "      <td>0</td>\n",
       "      <td>1</td>\n",
       "    </tr>\n",
       "    <tr>\n",
       "      <th>2</th>\n",
       "      <td>-0.100255</td>\n",
       "      <td>0.634498</td>\n",
       "      <td>-0.492517</td>\n",
       "      <td>-0.970608</td>\n",
       "      <td>10.217442</td>\n",
       "      <td>0.201992</td>\n",
       "      <td>-0.224578</td>\n",
       "      <td>1.078399</td>\n",
       "      <td>0.005601</td>\n",
       "      <td>0.485286</td>\n",
       "      <td>-0.640685</td>\n",
       "      <td>-0.013299</td>\n",
       "      <td>0.199743</td>\n",
       "      <td>0.485286</td>\n",
       "      <td>-0.209796</td>\n",
       "      <td>0.506508</td>\n",
       "      <td>-0.440774</td>\n",
       "      <td>-0.109604</td>\n",
       "      <td>0</td>\n",
       "      <td>0</td>\n",
       "      <td>0</td>\n",
       "      <td>0</td>\n",
       "      <td>0</td>\n",
       "      <td>1</td>\n",
       "      <td>0</td>\n",
       "      <td>0</td>\n",
       "      <td>0</td>\n",
       "      <td>0</td>\n",
       "      <td>0</td>\n",
       "      <td>1</td>\n",
       "      <td>0</td>\n",
       "      <td>0</td>\n",
       "      <td>0</td>\n",
       "    </tr>\n",
       "    <tr>\n",
       "      <th>3</th>\n",
       "      <td>-0.100255</td>\n",
       "      <td>-0.764242</td>\n",
       "      <td>-0.116415</td>\n",
       "      <td>-0.499735</td>\n",
       "      <td>0.017205</td>\n",
       "      <td>1.557920</td>\n",
       "      <td>1.140433</td>\n",
       "      <td>-0.383101</td>\n",
       "      <td>-0.772540</td>\n",
       "      <td>0.558799</td>\n",
       "      <td>0.146520</td>\n",
       "      <td>0.218002</td>\n",
       "      <td>-0.259448</td>\n",
       "      <td>0.558799</td>\n",
       "      <td>-0.209796</td>\n",
       "      <td>0.492096</td>\n",
       "      <td>-0.426647</td>\n",
       "      <td>-0.109604</td>\n",
       "      <td>0</td>\n",
       "      <td>0</td>\n",
       "      <td>0</td>\n",
       "      <td>1</td>\n",
       "      <td>0</td>\n",
       "      <td>0</td>\n",
       "      <td>0</td>\n",
       "      <td>0</td>\n",
       "      <td>0</td>\n",
       "      <td>0</td>\n",
       "      <td>0</td>\n",
       "      <td>0</td>\n",
       "      <td>1</td>\n",
       "      <td>0</td>\n",
       "      <td>0</td>\n",
       "    </tr>\n",
       "    <tr>\n",
       "      <th>4</th>\n",
       "      <td>0.396235</td>\n",
       "      <td>0.634498</td>\n",
       "      <td>1.387995</td>\n",
       "      <td>-0.028862</td>\n",
       "      <td>-0.853547</td>\n",
       "      <td>1.491016</td>\n",
       "      <td>-0.050849</td>\n",
       "      <td>-1.793775</td>\n",
       "      <td>-1.780851</td>\n",
       "      <td>-0.521130</td>\n",
       "      <td>-0.316541</td>\n",
       "      <td>1.549736</td>\n",
       "      <td>-1.400671</td>\n",
       "      <td>-0.521130</td>\n",
       "      <td>-0.209796</td>\n",
       "      <td>0.088563</td>\n",
       "      <td>-0.031097</td>\n",
       "      <td>-0.109604</td>\n",
       "      <td>0</td>\n",
       "      <td>0</td>\n",
       "      <td>0</td>\n",
       "      <td>0</td>\n",
       "      <td>0</td>\n",
       "      <td>0</td>\n",
       "      <td>0</td>\n",
       "      <td>1</td>\n",
       "      <td>0</td>\n",
       "      <td>1</td>\n",
       "      <td>0</td>\n",
       "      <td>0</td>\n",
       "      <td>0</td>\n",
       "      <td>0</td>\n",
       "      <td>0</td>\n",
       "    </tr>\n",
       "  </tbody>\n",
       "</table>\n",
       "</div>"
      ],
      "text/plain": [
       "     weight    rating    height      size        age  review_sum_Pol  \\\n",
       "0 -0.000957  0.634498  1.011893  0.206575  -0.729154        0.487450   \n",
       "1 -0.249202  0.634498  0.259688 -0.028862   0.265991       -1.296666   \n",
       "2 -0.100255  0.634498 -0.492517 -0.970608  10.217442        0.201992   \n",
       "3 -0.100255 -0.764242 -0.116415 -0.499735   0.017205        1.557920   \n",
       "4  0.396235  0.634498  1.387995 -0.028862  -0.853547        1.491016   \n",
       "\n",
       "   review_sum_Subj  review_text__Pol  review_text_Subj  text_compound  \\\n",
       "0        -0.348670         -0.549519          0.386620       0.524320   \n",
       "1        -1.837773          0.396547          0.835679       0.374040   \n",
       "2        -0.224578          1.078399          0.005601       0.485286   \n",
       "3         1.140433         -0.383101         -0.772540       0.558799   \n",
       "4        -0.050849         -1.793775         -1.780851      -0.521130   \n",
       "\n",
       "   text_neg  text_neu  text_pos  sum_compound   sum_neg   sum_neu   sum_pos  \\\n",
       "0 -0.154470 -0.272637  0.307787      0.524320 -0.209796 -0.498721  0.544570   \n",
       "1  0.424357 -0.132454  0.003911      0.374040 -0.209796 -0.469898  0.516316   \n",
       "2 -0.640685 -0.013299  0.199743      0.485286 -0.209796  0.506508 -0.440774   \n",
       "3  0.146520  0.218002 -0.259448      0.558799 -0.209796  0.492096 -0.426647   \n",
       "4 -0.316541  1.549736 -1.400671     -0.521130 -0.209796  0.088563 -0.031097   \n",
       "\n",
       "      size1  fit_large  fit_small  rented for_everyday  \\\n",
       "0 -0.109604          0          0                    0   \n",
       "1 -0.109604          0          0                    0   \n",
       "2 -0.109604          0          0                    0   \n",
       "3 -0.109604          0          0                    0   \n",
       "4 -0.109604          0          0                    0   \n",
       "\n",
       "   rented for_formal affair  rented for_other  rented for_party  \\\n",
       "0                         0                 0                 0   \n",
       "1                         0                 1                 0   \n",
       "2                         0                 0                 1   \n",
       "3                         1                 0                 0   \n",
       "4                         0                 0                 0   \n",
       "\n",
       "   rented for_vacation  rented for_wedding  rented for_work  \\\n",
       "0                    1                   0                0   \n",
       "1                    0                   0                0   \n",
       "2                    0                   0                0   \n",
       "3                    0                   0                0   \n",
       "4                    0                   1                0   \n",
       "\n",
       "   body type_athletic  body type_full bust  body type_hourglass  \\\n",
       "0                   0                    0                    1   \n",
       "1                   0                    0                    0   \n",
       "2                   0                    0                    1   \n",
       "3                   0                    0                    0   \n",
       "4                   1                    0                    0   \n",
       "\n",
       "   body type_pear  body type_petite  body type_straight & narrow  \n",
       "0               0                 0                            0  \n",
       "1               0                 0                            1  \n",
       "2               0                 0                            0  \n",
       "3               1                 0                            0  \n",
       "4               0                 0                            0  "
      ]
     },
     "execution_count": 41,
     "metadata": {},
     "output_type": "execute_result"
    }
   ],
   "source": [
    "X.iloc[:,:18] = ss.fit_transform(X.iloc[:,:18])\n",
    "X.head()"
   ]
  },
  {
   "cell_type": "markdown",
   "metadata": {},
   "source": [
    "## KMeans Clustering."
   ]
  },
  {
   "cell_type": "code",
   "execution_count": 42,
   "metadata": {},
   "outputs": [],
   "source": [
    "from sklearn.cluster import KMeans"
   ]
  },
  {
   "cell_type": "code",
   "execution_count": 43,
   "metadata": {},
   "outputs": [],
   "source": [
    "cluster_errors = []\n",
    "cluster_range = range(1,15)\n",
    "for num_clusters in cluster_range:\n",
    "    clusters = KMeans(num_clusters,random_state=100)\n",
    "    clusters.fit(X)\n",
    "    cluster_errors.append(clusters.inertia_)"
   ]
  },
  {
   "cell_type": "code",
   "execution_count": 44,
   "metadata": {},
   "outputs": [
    {
     "data": {
      "text/html": [
       "<div>\n",
       "<style scoped>\n",
       "    .dataframe tbody tr th:only-of-type {\n",
       "        vertical-align: middle;\n",
       "    }\n",
       "\n",
       "    .dataframe tbody tr th {\n",
       "        vertical-align: top;\n",
       "    }\n",
       "\n",
       "    .dataframe thead th {\n",
       "        text-align: right;\n",
       "    }\n",
       "</style>\n",
       "<table border=\"1\" class=\"dataframe\">\n",
       "  <thead>\n",
       "    <tr style=\"text-align: right;\">\n",
       "      <th></th>\n",
       "      <th>num_clusters</th>\n",
       "      <th>cluster_errors</th>\n",
       "    </tr>\n",
       "  </thead>\n",
       "  <tbody>\n",
       "    <tr>\n",
       "      <th>0</th>\n",
       "      <td>1</td>\n",
       "      <td>3.803370e+06</td>\n",
       "    </tr>\n",
       "    <tr>\n",
       "      <th>1</th>\n",
       "      <td>2</td>\n",
       "      <td>3.329058e+06</td>\n",
       "    </tr>\n",
       "    <tr>\n",
       "      <th>2</th>\n",
       "      <td>3</td>\n",
       "      <td>3.006993e+06</td>\n",
       "    </tr>\n",
       "    <tr>\n",
       "      <th>3</th>\n",
       "      <td>4</td>\n",
       "      <td>2.797781e+06</td>\n",
       "    </tr>\n",
       "    <tr>\n",
       "      <th>4</th>\n",
       "      <td>5</td>\n",
       "      <td>2.619584e+06</td>\n",
       "    </tr>\n",
       "  </tbody>\n",
       "</table>\n",
       "</div>"
      ],
      "text/plain": [
       "   num_clusters  cluster_errors\n",
       "0             1    3.803370e+06\n",
       "1             2    3.329058e+06\n",
       "2             3    3.006993e+06\n",
       "3             4    2.797781e+06\n",
       "4             5    2.619584e+06"
      ]
     },
     "execution_count": 44,
     "metadata": {},
     "output_type": "execute_result"
    }
   ],
   "source": [
    "cluster_df = pd.DataFrame({'num_clusters':cluster_range,'cluster_errors':cluster_errors})\n",
    "cluster_df.head()"
   ]
  },
  {
   "cell_type": "code",
   "execution_count": 45,
   "metadata": {},
   "outputs": [
    {
     "data": {
      "text/plain": [
       "[<matplotlib.lines.Line2D at 0x1514d754160>]"
      ]
     },
     "execution_count": 45,
     "metadata": {},
     "output_type": "execute_result"
    },
    {
     "data": {
      "image/png": "[encoded data removed]",
      "text/plain": [
       "<Figure size 1080x432 with 1 Axes>"
      ]
     },
     "metadata": {
      "needs_background": "light"
     },
     "output_type": "display_data"
    }
   ],
   "source": [
    "plt.plot(cluster_df['num_clusters'],cluster_df['cluster_errors'],marker='*',color='b')"
   ]
  },
  {
   "cell_type": "markdown",
   "metadata": {},
   "source": [
    "##### From above elbow plot we choose optimal clusters K b/w 3 to 5. The inertia significantly decreases at the cluster values 3 to 5."
   ]
  },
  {
   "cell_type": "markdown",
   "metadata": {},
   "source": [
    "## Lets build the KMeans clustering model with the optimal cluster value K=3."
   ]
  },
  {
   "cell_type": "code",
   "execution_count": 46,
   "metadata": {},
   "outputs": [
    {
     "data": {
      "text/plain": [
       "KMeans(n_clusters=3, random_state=100)"
      ]
     },
     "execution_count": 46,
     "metadata": {},
     "output_type": "execute_result"
    }
   ],
   "source": [
    "kmeans = KMeans(n_clusters=3,random_state=100)\n",
    "kmeans.fit(X)"
   ]
  },
  {
   "cell_type": "code",
   "execution_count": 47,
   "metadata": {},
   "outputs": [
    {
     "data": {
      "text/html": [
       "<div>\n",
       "<style scoped>\n",
       "    .dataframe tbody tr th:only-of-type {\n",
       "        vertical-align: middle;\n",
       "    }\n",
       "\n",
       "    .dataframe tbody tr th {\n",
       "        vertical-align: top;\n",
       "    }\n",
       "\n",
       "    .dataframe thead th {\n",
       "        text-align: right;\n",
       "    }\n",
       "</style>\n",
       "<table border=\"1\" class=\"dataframe\">\n",
       "  <thead>\n",
       "    <tr style=\"text-align: right;\">\n",
       "      <th></th>\n",
       "      <th>Label</th>\n",
       "    </tr>\n",
       "  </thead>\n",
       "  <tbody>\n",
       "    <tr>\n",
       "      <th>0</th>\n",
       "      <td>0</td>\n",
       "    </tr>\n",
       "    <tr>\n",
       "      <th>1</th>\n",
       "      <td>2</td>\n",
       "    </tr>\n",
       "    <tr>\n",
       "      <th>2</th>\n",
       "      <td>0</td>\n",
       "    </tr>\n",
       "    <tr>\n",
       "      <th>3</th>\n",
       "      <td>0</td>\n",
       "    </tr>\n",
       "    <tr>\n",
       "      <th>4</th>\n",
       "      <td>0</td>\n",
       "    </tr>\n",
       "  </tbody>\n",
       "</table>\n",
       "</div>"
      ],
      "text/plain": [
       "   Label\n",
       "0      0\n",
       "1      2\n",
       "2      0\n",
       "3      0\n",
       "4      0"
      ]
     },
     "execution_count": 47,
     "metadata": {},
     "output_type": "execute_result"
    }
   ],
   "source": [
    "## Lets create a dataframe of the labels.\n",
    "Labels = pd.DataFrame(kmeans.labels_,columns=['Label'])\n",
    "Labels.head()"
   ]
  },
  {
   "cell_type": "code",
   "execution_count": 48,
   "metadata": {},
   "outputs": [
    {
     "data": {
      "text/html": [
       "<div>\n",
       "<style scoped>\n",
       "    .dataframe tbody tr th:only-of-type {\n",
       "        vertical-align: middle;\n",
       "    }\n",
       "\n",
       "    .dataframe tbody tr th {\n",
       "        vertical-align: top;\n",
       "    }\n",
       "\n",
       "    .dataframe thead th {\n",
       "        text-align: right;\n",
       "    }\n",
       "</style>\n",
       "<table border=\"1\" class=\"dataframe\">\n",
       "  <thead>\n",
       "    <tr style=\"text-align: right;\">\n",
       "      <th></th>\n",
       "      <th>weight</th>\n",
       "      <th>rating</th>\n",
       "      <th>height</th>\n",
       "      <th>size</th>\n",
       "      <th>age</th>\n",
       "      <th>review_sum_Pol</th>\n",
       "      <th>review_sum_Subj</th>\n",
       "      <th>review_text__Pol</th>\n",
       "      <th>review_text_Subj</th>\n",
       "      <th>text_compound</th>\n",
       "      <th>text_neg</th>\n",
       "      <th>text_neu</th>\n",
       "      <th>text_pos</th>\n",
       "      <th>sum_compound</th>\n",
       "      <th>sum_neg</th>\n",
       "      <th>sum_neu</th>\n",
       "      <th>sum_pos</th>\n",
       "      <th>size1</th>\n",
       "      <th>fit_large</th>\n",
       "      <th>fit_small</th>\n",
       "      <th>rented for_everyday</th>\n",
       "      <th>rented for_formal affair</th>\n",
       "      <th>rented for_other</th>\n",
       "      <th>rented for_party</th>\n",
       "      <th>rented for_vacation</th>\n",
       "      <th>rented for_wedding</th>\n",
       "      <th>rented for_work</th>\n",
       "      <th>body type_athletic</th>\n",
       "      <th>body type_full bust</th>\n",
       "      <th>body type_hourglass</th>\n",
       "      <th>body type_pear</th>\n",
       "      <th>body type_petite</th>\n",
       "      <th>body type_straight &amp; narrow</th>\n",
       "      <th>Label</th>\n",
       "    </tr>\n",
       "  </thead>\n",
       "  <tbody>\n",
       "    <tr>\n",
       "      <th>0</th>\n",
       "      <td>-0.000957</td>\n",
       "      <td>0.634498</td>\n",
       "      <td>1.011893</td>\n",
       "      <td>0.206575</td>\n",
       "      <td>-0.729154</td>\n",
       "      <td>0.487450</td>\n",
       "      <td>-0.348670</td>\n",
       "      <td>-0.549519</td>\n",
       "      <td>0.386620</td>\n",
       "      <td>0.52432</td>\n",
       "      <td>-0.154470</td>\n",
       "      <td>-0.272637</td>\n",
       "      <td>0.307787</td>\n",
       "      <td>0.52432</td>\n",
       "      <td>-0.209796</td>\n",
       "      <td>-0.498721</td>\n",
       "      <td>0.544570</td>\n",
       "      <td>-0.109604</td>\n",
       "      <td>0</td>\n",
       "      <td>0</td>\n",
       "      <td>0</td>\n",
       "      <td>0</td>\n",
       "      <td>0</td>\n",
       "      <td>0</td>\n",
       "      <td>1</td>\n",
       "      <td>0</td>\n",
       "      <td>0</td>\n",
       "      <td>0</td>\n",
       "      <td>0</td>\n",
       "      <td>1</td>\n",
       "      <td>0</td>\n",
       "      <td>0</td>\n",
       "      <td>0</td>\n",
       "      <td>0</td>\n",
       "    </tr>\n",
       "    <tr>\n",
       "      <th>1</th>\n",
       "      <td>-0.249202</td>\n",
       "      <td>0.634498</td>\n",
       "      <td>0.259688</td>\n",
       "      <td>-0.028862</td>\n",
       "      <td>0.265991</td>\n",
       "      <td>-1.296666</td>\n",
       "      <td>-1.837773</td>\n",
       "      <td>0.396547</td>\n",
       "      <td>0.835679</td>\n",
       "      <td>0.37404</td>\n",
       "      <td>0.424357</td>\n",
       "      <td>-0.132454</td>\n",
       "      <td>0.003911</td>\n",
       "      <td>0.37404</td>\n",
       "      <td>-0.209796</td>\n",
       "      <td>-0.469898</td>\n",
       "      <td>0.516316</td>\n",
       "      <td>-0.109604</td>\n",
       "      <td>0</td>\n",
       "      <td>0</td>\n",
       "      <td>0</td>\n",
       "      <td>0</td>\n",
       "      <td>1</td>\n",
       "      <td>0</td>\n",
       "      <td>0</td>\n",
       "      <td>0</td>\n",
       "      <td>0</td>\n",
       "      <td>0</td>\n",
       "      <td>0</td>\n",
       "      <td>0</td>\n",
       "      <td>0</td>\n",
       "      <td>0</td>\n",
       "      <td>1</td>\n",
       "      <td>2</td>\n",
       "    </tr>\n",
       "  </tbody>\n",
       "</table>\n",
       "</div>"
      ],
      "text/plain": [
       "     weight    rating    height      size       age  review_sum_Pol  \\\n",
       "0 -0.000957  0.634498  1.011893  0.206575 -0.729154        0.487450   \n",
       "1 -0.249202  0.634498  0.259688 -0.028862  0.265991       -1.296666   \n",
       "\n",
       "   review_sum_Subj  review_text__Pol  review_text_Subj  text_compound  \\\n",
       "0        -0.348670         -0.549519          0.386620        0.52432   \n",
       "1        -1.837773          0.396547          0.835679        0.37404   \n",
       "\n",
       "   text_neg  text_neu  text_pos  sum_compound   sum_neg   sum_neu   sum_pos  \\\n",
       "0 -0.154470 -0.272637  0.307787       0.52432 -0.209796 -0.498721  0.544570   \n",
       "1  0.424357 -0.132454  0.003911       0.37404 -0.209796 -0.469898  0.516316   \n",
       "\n",
       "      size1  fit_large  fit_small  rented for_everyday  \\\n",
       "0 -0.109604          0          0                    0   \n",
       "1 -0.109604          0          0                    0   \n",
       "\n",
       "   rented for_formal affair  rented for_other  rented for_party  \\\n",
       "0                         0                 0                 0   \n",
       "1                         0                 1                 0   \n",
       "\n",
       "   rented for_vacation  rented for_wedding  rented for_work  \\\n",
       "0                    1                   0                0   \n",
       "1                    0                   0                0   \n",
       "\n",
       "   body type_athletic  body type_full bust  body type_hourglass  \\\n",
       "0                   0                    0                    1   \n",
       "1                   0                    0                    0   \n",
       "\n",
       "   body type_pear  body type_petite  body type_straight & narrow  Label  \n",
       "0               0                 0                            0      0  \n",
       "1               0                 0                            1      2  "
      ]
     },
     "execution_count": 48,
     "metadata": {},
     "output_type": "execute_result"
    }
   ],
   "source": [
    "##### Lets join the label dataframe with X dataframe.\n",
    "kmeans = X.join(Labels)\n",
    "kmeans.head(2)"
   ]
  },
  {
   "cell_type": "code",
   "execution_count": 49,
   "metadata": {},
   "outputs": [
    {
     "data": {
      "text/plain": [
       "0    118094\n",
       "2     53701\n",
       "1     20749\n",
       "Name: Label, dtype: int64"
      ]
     },
     "execution_count": 49,
     "metadata": {},
     "output_type": "execute_result"
    }
   ],
   "source": [
    "kmeans['Label'].value_counts()"
   ]
  },
  {
   "cell_type": "markdown",
   "metadata": {},
   "source": [
    "## Comparision between Original Classes and Kmeans Clustering classes."
   ]
  },
  {
   "cell_type": "code",
   "execution_count": 50,
   "metadata": {},
   "outputs": [
    {
     "name": "stdout",
     "output_type": "stream",
     "text": [
      "Original Classes:\n",
      "fit      142058\n",
      "small     25779\n",
      "large     24707\n",
      "Name: fit, dtype: int64\n",
      "~~~~~~~~~~~~~~~~~~~~~~~~~~~~~~\n",
      "Kmeans clustering classes:\n",
      "0    118094\n",
      "2     53701\n",
      "1     20749\n",
      "Name: Label, dtype: int64\n"
     ]
    }
   ],
   "source": [
    "print('Original Classes:')\n",
    "print(df['fit'].value_counts())\n",
    "print('~'*30)\n",
    "print('Kmeans clustering classes:')\n",
    "print(kmeans['Label'].value_counts())"
   ]
  },
  {
   "cell_type": "code",
   "execution_count": null,
   "metadata": {},
   "outputs": [],
   "source": [
    "\n",
    "\n",
    "\n",
    "\n"
   ]
  }
 ],
 "metadata": {
  "kernelspec": {
   "display_name": "Python 3",
   "language": "python",
   "name": "python3"
  },
  "language_info": {
   "codemirror_mode": {
    "name": "ipython",
    "version": 3
   },
   "file_extension": ".py",
   "mimetype": "text/x-python",
   "name": "python",
   "nbconvert_exporter": "python",
   "pygments_lexer": "ipython3",
   "version": "3.8.5"
  }
 },
 "nbformat": 4,
 "nbformat_minor": 4
}
