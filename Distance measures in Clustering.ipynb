{
 "cells": [
  {
   "cell_type": "markdown",
   "metadata": {},
   "source": [
    "## Proximity Measurement:\n",
    "- Euclidean distance.\n",
    "- Manhattan distance.\n",
    "- Chebyshev distance.\n",
    "- Minkowski distance.\n",
    "- Jaccard distance."
   ]
  },
  {
   "cell_type": "markdown",
   "metadata": {},
   "source": [
    "## `Euclidean distance`."
   ]
  },
  {
   "cell_type": "code",
   "execution_count": 1,
   "metadata": {},
   "outputs": [],
   "source": [
    "from scipy.spatial import distance"
   ]
  },
  {
   "cell_type": "code",
   "execution_count": 2,
   "metadata": {},
   "outputs": [
    {
     "name": "stdout",
     "output_type": "stream",
     "text": [
      "9.746794344808963\n"
     ]
    }
   ],
   "source": [
    "a = (0,3,4,5)\n",
    "b = (7,6,3,-1)\n",
    "\n",
    "dst = distance.euclidean(a,b)\n",
    "print(dst)"
   ]
  },
  {
   "cell_type": "markdown",
   "metadata": {},
   "source": [
    "## `Manhattan distance`."
   ]
  },
  {
   "cell_type": "code",
   "execution_count": 3,
   "metadata": {},
   "outputs": [
    {
     "name": "stdout",
     "output_type": "stream",
     "text": [
      "17\n"
     ]
    }
   ],
   "source": [
    "a = (0,3,4,5)\n",
    "b = (7,6,3,-1)\n",
    "\n",
    "dst = distance.cityblock(a,b)\n",
    "print(dst)"
   ]
  },
  {
   "cell_type": "markdown",
   "metadata": {},
   "source": [
    "## `Chebyshev distance.`"
   ]
  },
  {
   "cell_type": "code",
   "execution_count": 4,
   "metadata": {},
   "outputs": [
    {
     "name": "stdout",
     "output_type": "stream",
     "text": [
      "7\n"
     ]
    }
   ],
   "source": [
    "a = (0,3,4,5)\n",
    "b = (7,6,3,-1)\n",
    "dst = distance.chebyshev(a,b)\n",
    "print(dst)"
   ]
  },
  {
   "cell_type": "markdown",
   "metadata": {},
   "source": [
    "## `Minkowski Distance.`"
   ]
  },
  {
   "cell_type": "markdown",
   "metadata": {},
   "source": [
    "Generalized metric distance\n",
    "* When Lamda = 1, city block distance\n",
    "* When lamda = 2, it become euclidean\n",
    "* When lamda > 2 , it is Chebyshev distance"
   ]
  },
  {
   "cell_type": "code",
   "execution_count": 6,
   "metadata": {},
   "outputs": [
    {
     "name": "stdout",
     "output_type": "stream",
     "text": [
      "8.372966759705923\n"
     ]
    }
   ],
   "source": [
    "a = (0,3,4,5)\n",
    "b = (7,6,3,-1)\n",
    "p = 3 # where p is the root value\n",
    "dst = distance.minkowski(a,b,p)\n",
    "print(dst)"
   ]
  },
  {
   "cell_type": "markdown",
   "metadata": {},
   "source": [
    "## `Jaccard Distance`\n",
    "\n",
    "- Jaccard distance, is a measure of how dissimilar two sets\n",
    " "
   ]
  },
  {
   "cell_type": "code",
   "execution_count": null,
   "metadata": {},
   "outputs": [],
   "source": [
    "# Jaccard similarty\n",
    "import numpy as np\n",
    "from sklearn.metrics import jaccard_similarity_score\n",
    "a = [0,2,5]\n",
    "b = [0,2,3]\n",
    "out = jaccard_similarity_score(a, b)\n",
    "out * 100"
   ]
  },
  {
   "cell_type": "code",
   "execution_count": null,
   "metadata": {},
   "outputs": [],
   "source": [
    "## Jaccard dissimilarity\n",
    "100 - (out * 100)"
   ]
  }
 ],
 "metadata": {
  "kernelspec": {
   "display_name": "Python 3",
   "language": "python",
   "name": "python3"
  },
  "language_info": {
   "codemirror_mode": {
    "name": "ipython",
    "version": 3
   },
   "file_extension": ".py",
   "mimetype": "text/x-python",
   "name": "python",
   "nbconvert_exporter": "python",
   "pygments_lexer": "ipython3",
   "version": "3.8.5"
  }
 },
 "nbformat": 4,
 "nbformat_minor": 4
}
